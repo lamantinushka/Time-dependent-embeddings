{
  "nbformat": 4,
  "nbformat_minor": 0,
  "metadata": {
    "colab": {
      "name": "NLAProject.ipynb",
      "version": "0.3.2",
      "provenance": [],
      "collapsed_sections": []
    },
    "kernelspec": {
      "name": "python3",
      "display_name": "Python 3"
    }
  },
  "cells": [
    {
      "metadata": {
        "id": "sZY4n0kJwgA3",
        "colab_type": "text"
      },
      "cell_type": "markdown",
      "source": [
        "# Time-dependent word embeddings"
      ]
    },
    {
      "metadata": {
        "id": "ryAgOn2-wrFS",
        "colab_type": "code",
        "colab": {}
      },
      "cell_type": "code",
      "source": [
        "import numpy as np\n",
        "import pandas as pd\n",
        "from scipy import sparse as sp\n",
        "import scipy.io as sio\n",
        "\n",
        "from tqdm import tnrange, tqdm_notebook\n",
        "\n",
        "from matplotlib import pyplot as plt\n",
        "import seaborn as sns\n",
        "\n",
        "sns.set_style('whitegrid')\n",
        "sns.despine()\n",
        "\n",
        "%matplotlib inline"
      ],
      "execution_count": 0,
      "outputs": []
    },
    {
      "metadata": {
        "id": "AXzoBrk7w8BY",
        "colab_type": "text"
      },
      "cell_type": "markdown",
      "source": [
        "## Data"
      ]
    },
    {
      "metadata": {
        "id": "3vwD_aNOWiz5",
        "colab_type": "code",
        "colab": {}
      },
      "cell_type": "code",
      "source": [
        "from utils import *"
      ],
      "execution_count": 0,
      "outputs": []
    },
    {
      "metadata": {
        "id": "YqZjRosuTt81",
        "colab_type": "code",
        "colab": {}
      },
      "cell_type": "code",
      "source": [
        "!wget https://www.dropbox.com/s/nifi5nj1oj0fu2i/data.zip\n",
        "!unzip data.zip"
      ],
      "execution_count": 0,
      "outputs": []
    },
    {
      "metadata": {
        "id": "NZhSECBIS7JG",
        "colab_type": "code",
        "colab": {}
      },
      "cell_type": "code",
      "source": [
        "corpus = Corpus()"
      ],
      "execution_count": 0,
      "outputs": []
    },
    {
      "metadata": {
        "id": "-8nHXvfwWeFu",
        "colab_type": "text"
      },
      "cell_type": "markdown",
      "source": [
        "## Models"
      ]
    },
    {
      "metadata": {
        "id": "ShYscT5FWetk",
        "colab_type": "code",
        "colab": {}
      },
      "cell_type": "code",
      "source": [
        "#from dynamic_wv import DynamicW2V\n",
        "from aligned_w2v import AlignedW2V\n",
        "from projector_splitting_w2v import IntegratedW2V"
      ],
      "execution_count": 0,
      "outputs": []
    },
    {
      "metadata": {
        "id": "aOUlGw990oIt",
        "colab_type": "text"
      },
      "cell_type": "markdown",
      "source": [
        "DynamicW2V fits long"
      ]
    },
    {
      "metadata": {
        "id": "koQLraGPWe2R",
        "colab_type": "code",
        "colab": {}
      },
      "cell_type": "code",
      "source": [
        "ridge_w2v = DynamicW2V()\n",
        "projector_w2v = IntegratedW2V()\n",
        "aligned_w2v = AlignedW2V()\n",
        "\n",
        "#models = [ridge_w2v, projector_w2v, aligned_w2v]\n",
        "models = [projector_w2v, aligned_w2v]\n",
        "\n",
        "for model in models:\n",
        "    model.fit(corpus)"
      ],
      "execution_count": 0,
      "outputs": []
    },
    {
      "metadata": {
        "id": "H8epoRxqdlBn",
        "colab_type": "text"
      },
      "cell_type": "markdown",
      "source": [
        "# Evaluation"
      ]
    },
    {
      "metadata": {
        "id": "a8QswWefdn17",
        "colab_type": "text"
      },
      "cell_type": "markdown",
      "source": [
        "## Semantic analysis (t-SNE visualization )"
      ]
    },
    {
      "metadata": {
        "id": "wkzeCz1Zd3zM",
        "colab_type": "code",
        "colab": {}
      },
      "cell_type": "code",
      "source": [
        "import scipy.io as sio\n",
        "import numpy as np\n",
        "import json\n",
        "from pprint import pprint\n",
        "from scipy.spatial.distance import pdist\n",
        "from sklearn.manifold import TSNE\n",
        "import matplotlib.pyplot as plt\n",
        "import pickle\n",
        "\n",
        "\n",
        "word = 'apple'\n",
        "\n",
        "def TSNE_pr(word, model, corpus, times = range(0,27)):\n",
        "    nn = 50\n",
        "    nc = 5\n",
        "    X = []\n",
        "    list_of_words = []\n",
        "    isword = []\n",
        "    for year in times:\n",
        "\n",
        "        emb = model.embeddings[year]\n",
        "        embnrm = np.reshape(np.sqrt(np.sum(emb**2,1)),(emb.shape[0],1))\n",
        "        emb_normalized = np.divide(emb, np.tile(embnrm, (1,emb.shape[1])))           \n",
        "        v = emb_normalized[corpus.vocab[word],:]\n",
        "        d =np.dot(emb_normalized,v)\n",
        "        idx = np.argsort(d)[::-1]\n",
        "        newwords = [(model.inv_vocab[k], year) for k in list(idx[:nn])]\n",
        "        list_of_words.extend(newwords)\n",
        "        for k in range(nn):\n",
        "            isword.append(k==0)\n",
        "        X.append(emb[idx[:nn],:])\n",
        "\n",
        "    X = np.vstack(X)\n",
        "    model = TSNE(n_components=2, metric = 'euclidean')\n",
        "    Z = model.fit_transform(X)\n",
        "    return Z, list_of_words, isword\n",
        "  \n",
        "Z, list_of_words, isword = TSNE_pr(word=word, model=projector_w2v, corpus=corpus, times = range(0,27))"
      ],
      "execution_count": 0,
      "outputs": []
    },
    {
      "metadata": {
        "id": "7Ixfqhgpd36g",
        "colab_type": "code",
        "colab": {}
      },
      "cell_type": "code",
      "source": [
        "sio.savemat('{}_tsne.mat'.format(word),{'emb':Z})\n",
        "pickle.dump({'words':list_of_words,'isword':isword},open('%s_tsne_wordlist.pkl'%word,'wb'))"
      ],
      "execution_count": 0,
      "outputs": []
    },
    {
      "metadata": {
        "id": "2y5S01WMd33_",
        "colab_type": "code",
        "colab": {
          "base_uri": "https://localhost:8080/",
          "height": 717
        },
        "outputId": "2bd4962e-872f-45dd-94c7-33583a50ec7a"
      },
      "cell_type": "code",
      "source": [
        "def plot_k_nearest(model, list_of_words, isword, Z,  word, pic_name):\n",
        "    Z = sio.loadmat('%s_tsne.mat'%word)['emb']\n",
        "    data = pickle.load(open('%s_tsne_wordlist.pkl'%word,'rb'))\n",
        "    plt.clf()\n",
        "    traj = []\n",
        "\n",
        "    Zp = Z*1.\n",
        "    Zp[:,0] = Zp[:,0]*2.\n",
        "    all_dist = np.zeros((Z.shape[0],Z.shape[0]))\n",
        "    for k in range(Z.shape[0]):\n",
        "        all_dist[:,k] =np.sum( (Zp - np.tile(Zp[k,:],(Z.shape[0],1)))**2.,axis=1)\n",
        "\n",
        "    dist_to_centerpoints = all_dist[:,isword]\n",
        "    dist_to_centerpoints = np.min(dist_to_centerpoints,axis=1)\n",
        "\n",
        "    dist_to_other = all_dist + np.eye(Z.shape[0])*1000.\n",
        "    idx_dist_to_other = np.argsort(dist_to_other,axis=1)\n",
        "    dist_to_other = np.sort(dist_to_other,axis=1)\n",
        "    plt.figure(figsize=(16,12))\n",
        "    plt.clf()\n",
        "    y = 0\n",
        "    for k in range(len(list_of_words)-1,-1,-1):   \n",
        "        if isword[k] :\n",
        "            y += 1\n",
        "#             if list_of_words[k][1] % 3 != 0 : continue\n",
        "            marker = 'bo'\n",
        "            traj.append(Z[k,:])\n",
        "            if (y%4) == 3 :\n",
        "                plt.plot(Z[k,0], Z[k,1],marker)\n",
        "                plt.text(Z[k,0]-2, Z[k,1]+np.random.randn()*2,' %s-%d' % (list_of_words[k][0], list_of_words[k][1] + 1990), fontsize = 12)\n",
        "            \n",
        "    times = np.arange(27)\n",
        "\n",
        "    for t in times[::4]:\n",
        "        w = (model.k_nearest(word)[t][0][0], t)\n",
        "        w1 = (model.k_nearest(word)[t][1][0], t)\n",
        "        if (w in list_of_words):\n",
        "            k = list_of_words.index(w)\n",
        "            plt.plot(Z[k,0], Z[k,1])\n",
        "            plt.text(Z[k,0]-2, Z[k,1]+np.random.randn()*2,' %s-%d' % (list_of_words[k][0], list_of_words[k][1] + 1990), fontsize = 12)\n",
        "        if (w1 in list_of_words):\n",
        "            k = list_of_words.index(w1)\n",
        "            plt.plot(Z[k,0], Z[k,1])\n",
        "            plt.text(Z[k,0]-2, Z[k,1]+np.random.randn()*2,' %s-%d' % (list_of_words[k][0], list_of_words[k][1] + 1990), fontsize = 12)\n",
        "    plt.axis('off')\n",
        "    traj = np.vstack(traj)\n",
        "    plt.plot(traj[::2,0],traj[::2,1])\n",
        "    pic_name = word\n",
        "    plt.savefig('./{}2.png'.format(pic_name))\n",
        "    plt.show()\n",
        "\n",
        "plot_k_nearest(projector_w2v, word=word, pic_name=word, list_of_words=list_of_words, Z=Z, isword=isword)"
      ],
      "execution_count": 82,
      "outputs": [
        {
          "output_type": "display_data",
          "data": {
            "text/plain": [
              "<matplotlib.figure.Figure at 0x7fd90aa1bfd0>"
            ]
          },
          "metadata": {
            "tags": []
          }
        },
        {
          "output_type": "display_data",
          "data": {
            "image/png": "[encoded data removed]",
            "text/plain": [
              "<matplotlib.figure.Figure at 0x7fd90aa249b0>"
            ]
          },
          "metadata": {
            "tags": []
          }
        }
      ]
    },
    {
      "metadata": {
        "id": "Tc8nveM4d4_-",
        "colab_type": "text"
      },
      "cell_type": "markdown",
      "source": [
        "## k-means clusterization "
      ]
    },
    {
      "metadata": {
        "id": "ftnpXbLDXOAv",
        "colab_type": "text"
      },
      "cell_type": "markdown",
      "source": [
        "### prepare word-topic pairs"
      ]
    },
    {
      "metadata": {
        "id": "xfMobQJgg8-N",
        "colab_type": "code",
        "colab": {}
      },
      "cell_type": "code",
      "source": [
        "import numpy as np\n",
        "from collections import Counter\n",
        "\n",
        "def read_file(path):\n",
        "    nyTimesFile = open(path, encoding='utf-8')\n",
        "    nyTimesFile.seek(0)\n",
        "    nyTimesV1 = nyTimesFile.readlines()\n",
        "    return nyTimesV1"
      ],
      "execution_count": 0,
      "outputs": []
    },
    {
      "metadata": {
        "id": "TzKEdVPxg9CA",
        "colab_type": "code",
        "colab": {}
      },
      "cell_type": "code",
      "source": [
        "def process_data(data, amount):\n",
        "    # make data more appropriate for processing\n",
        "    new_array = list()\n",
        "    for line in data:\n",
        "        if line != \"\\n\":\n",
        "            new_array.append(line)\n",
        "    data_list = [word.strip() for word in new_array]\n",
        "    test = data_list[0:amount]\n",
        "    dictionary = {}\n",
        "    \n",
        "    tag = \"\"\n",
        "    for line in test:\n",
        "        if \"http\" in line and len(line) < 150:\n",
        "            tag = line[39:].split(\"/\")[0] \n",
        "        else:\n",
        "            curr_line = line.lower()\n",
        "            curr_line = curr_line.replace(\",\",\"\")\n",
        "            curr_line = curr_line.replace(\".\",\"\")\n",
        "            curr_line = curr_line.replace(\"-\",\"\")\n",
        "            curr_line = curr_line.replace(\"“\",\"\")\n",
        "            counter_obj = Counter(curr_line.split(\" \"))\n",
        "            if tag in dictionary:\n",
        "                dictionary[tag] += counter_obj\n",
        "            else:\n",
        "                dictionary[tag] = counter_obj\n",
        "    \n",
        "    # make a single Counter\n",
        "    cnt = Counter()\n",
        "    for k,v in dictionary.items():\n",
        "        cnt += v\n",
        "        \n",
        "    words_indexes = lambda dictionary: {i: list(dictionary.keys()).index(i) for i in dictionary}\n",
        "    indexes = words_indexes(cnt) # words\n",
        "    topic_indexes = {}\n",
        "    \n",
        "    topic_length = len(dictionary)\n",
        "    vocab_length = len(indexes)\n",
        "    \n",
        "    corpus_matrix = np.zeros((vocab_length, topic_length), dtype='float32')\n",
        "    i = 0\n",
        "    for k,v in dictionary.items():\n",
        "        topic_indexes[i] = k\n",
        "        for key, value in v.items():\n",
        "            corpus_matrix[indexes[key], i] = value\n",
        "        i += 1\n",
        "    \n",
        "    for j in range(i):\n",
        "        row_sum = np.sum(corpus_matrix[j,:])\n",
        "        corpus_matrix[j,:] = corpus_matrix[j,:] / row_sum\n",
        "        \n",
        "    inv_map = {v: k for k, v in indexes.items()}\n",
        "    word_topic_dict = {}\n",
        "    for i in range(vocab_length):\n",
        "        indices = np.where(corpus_matrix[i,:] >= 0.35)\n",
        "        word = inv_map[i]\n",
        "        if indices[0].size != 0:\n",
        "            topic = topic_indexes[indices[0][0]]\n",
        "            word_topic_dict[word] = topic\n",
        "    \n",
        "    return word_topic_dict"
      ],
      "execution_count": 0,
      "outputs": []
    },
    {
      "metadata": {
        "id": "cIdcMwGHg9Hy",
        "colab_type": "code",
        "colab": {}
      },
      "cell_type": "code",
      "source": [
        "def save_results_txt(result,filename=\"last_res.txt\"):\n",
        "    with open(filename, \"w\") as f:\n",
        "        for k,v in result.items():\n",
        "            line = k + \" \" + v + \"\\n\"\n",
        "            f.write(line)"
      ],
      "execution_count": 0,
      "outputs": []
    },
    {
      "metadata": {
        "id": "O6WLXu6cg9PA",
        "colab_type": "code",
        "colab": {}
      },
      "cell_type": "code",
      "source": [
        "path = 'nytimes_news_articles.txt'\n",
        "data = read_file(path)\n",
        "word_topic_dict = process_data(data, 100000)"
      ],
      "execution_count": 0,
      "outputs": []
    },
    {
      "metadata": {
        "id": "rhlpRaEXjMb3",
        "colab_type": "text"
      },
      "cell_type": "markdown",
      "source": [
        "y - labels for each category\n",
        "\n",
        "X contains embeddings of chosen words for each model"
      ]
    },
    {
      "metadata": {
        "id": "IugZeP9niEqQ",
        "colab_type": "code",
        "colab": {}
      },
      "cell_type": "code",
      "source": [
        "idx = []\n",
        "y = []\n",
        "\n",
        "for key, val in word_topic_dict:\n",
        "    if key in corpus.vocab:\n",
        "        idx.append(corpus.vocab[s[0]])\n",
        "        y.append(val)"
      ],
      "execution_count": 0,
      "outputs": []
    },
    {
      "metadata": {
        "id": "E8LNNpTQiEuU",
        "colab_type": "code",
        "colab": {}
      },
      "cell_type": "code",
      "source": [
        "from sklearn.preprocessing import LabelEncoder\n",
        "le = LabelEncoder()\n",
        "y = le.fit_transform(y)"
      ],
      "execution_count": 0,
      "outputs": []
    },
    {
      "metadata": {
        "id": "-BFQVt_hiExz",
        "colab_type": "code",
        "colab": {}
      },
      "cell_type": "code",
      "source": [
        "X = []\n",
        "\n",
        "for model in models:\n",
        "    X.append(model.embeddings[-1][idx])"
      ],
      "execution_count": 0,
      "outputs": []
    },
    {
      "metadata": {
        "id": "U6g2Lhzkfobp",
        "colab_type": "code",
        "colab": {}
      },
      "cell_type": "code",
      "source": [
        "from sklearn.cluster import KMeans\n",
        "from sklearn.metrics import normalized_mutual_info_score"
      ],
      "execution_count": 0,
      "outputs": []
    },
    {
      "metadata": {
        "id": "4XvLJI8bjg9d",
        "colab_type": "text"
      },
      "cell_type": "markdown",
      "source": [
        "$F_{\\beta}$ measure for each pair of words. Positive - words are from the same topic, negative otherwise. True positive - words are from the same topic and are from the same k-means cluster etc."
      ]
    },
    {
      "metadata": {
        "id": "ePsOOvLneLUJ",
        "colab_type": "code",
        "colab": {}
      },
      "cell_type": "code",
      "source": [
        "def f_measure(y_true, y_pred, beta):\n",
        "    true = (y_true == y_true.reshape(-1, 1))\n",
        "    pred = (y_pred == y_pred.reshape(-1, 1))\n",
        "    TP = np.sum(true*pred)\n",
        "    FP = np.sum(np.logical_not(true)*pred)\n",
        "    FN = np.sum(np.logical_not(pred)*true)\n",
        "    precision = TP/(TP + FP)\n",
        "    recall = TP / (TP + FN)\n",
        "    return (beta**2 + 1)*precision*recall/(beta**2*precision + recall)"
      ],
      "execution_count": 0,
      "outputs": []
    },
    {
      "metadata": {
        "id": "FZYXqwb7kPLh",
        "colab_type": "text"
      },
      "cell_type": "markdown",
      "source": [
        "experiment for different number of clusters"
      ]
    },
    {
      "metadata": {
        "id": "0boyDPtKfmgQ",
        "colab_type": "code",
        "colab": {}
      },
      "cell_type": "code",
      "source": [
        "n_clusters = [5, 10, 15, 20]\n",
        "NMI_score = {n: [] for n in n_clusters}\n",
        "fbeta_score = {n: [] for n in n_clusters}\n",
        "\n",
        "for n in n_clusters:\n",
        "    kmeans = KMeans(n_clusters=n)\n",
        "    for x in X:\n",
        "        kmeans.fit(x)\n",
        "        y_pred = kmeans.labels_\n",
        "        NMI_score[n] = NMI_score[n].append(normalized_mutual_info_score(y, y_pred))\n",
        "        fbeta_score[n] = fbeta_score[n].append(f_measure(y, y_pred, 5))  "
      ],
      "execution_count": 0,
      "outputs": []
    },
    {
      "metadata": {
        "id": "novUYmr7kjjD",
        "colab_type": "text"
      },
      "cell_type": "markdown",
      "source": [
        "## Symmetry loss of projector-splitting method \n",
        "\n",
        "Test method for small random symmetric matrices with different SNR"
      ]
    },
    {
      "metadata": {
        "id": "NSy2nm6FsfM-",
        "colab_type": "text"
      },
      "cell_type": "markdown",
      "source": [
        "$\\frac{\\|Y - Y.T\\|}{\\|Y\\|}$"
      ]
    },
    {
      "metadata": {
        "id": "7a6EMQoSfmrm",
        "colab_type": "code",
        "colab": {}
      },
      "cell_type": "code",
      "source": [
        "def step(U, S, V, dA):\n",
        "    K = U.dot(S) + dA.dot(V)\n",
        "    U_, S_hat = np.linalg.qr(K)\n",
        "    S_tilde = S_hat - U_.T.dot(dA).dot(V)\n",
        "    L = V.dot(S_tilde.T) + dA.T.dot(U_)\n",
        "    V_, ST = np.linalg.qr(L)\n",
        "    S_ = ST.T\n",
        "    return U_, S_, V_"
      ],
      "execution_count": 0,
      "outputs": []
    },
    {
      "metadata": {
        "id": "-5btkQgWfmu8",
        "colab_type": "code",
        "colab": {}
      },
      "cell_type": "code",
      "source": [
        "sym_loss = []\n",
        "SNR = [0.01, 0.05, 0.1, 0.5]\n",
        "\n",
        "A = np.random.randn(500, 500)\n",
        "A += A.T\n",
        "r = 50\n",
        "U, S, Vh = np.linalg.svd(A)\n",
        "U = U[:, :r]\n",
        "S = np.diag(S[:r])\n",
        "V = Vh.T[:, :r]\n",
        "\n",
        "M = U.dot(S).dot(V.T)\n",
        "\n",
        "for snr in SNR:\n",
        "    loss = []\n",
        "    for i in range(50):\n",
        "        noise = snr*np.random.randn(500, 500)\n",
        "        noise += noise.T\n",
        "        U, S, V = step(U, S, V, noise)\n",
        "        M = U.dot(S).dot(V.T)\n",
        "        loss.append(np.linalg.norm(M - M.T)/np.linalg.norm(M))\n",
        "    sym_loss.append(loss)"
      ],
      "execution_count": 0,
      "outputs": []
    },
    {
      "metadata": {
        "id": "4Wbw9io-fmyd",
        "colab_type": "code",
        "outputId": "3f9b39d2-6a82-4620-9b0e-6c028b9107bf",
        "colab": {
          "base_uri": "https://localhost:8080/",
          "height": 279
        }
      },
      "cell_type": "code",
      "source": [
        "for i, loss in enumerate(sym_loss):\n",
        "    plt.plot(loss, label = str(SNR[i]))\n",
        "    plt.xlabel('n iter')\n",
        "    plt.ylabel('loss norm / matrix norm')\n",
        "    plt.legend(loc = 'best')"
      ],
      "execution_count": 0,
      "outputs": [
        {
          "output_type": "display_data",
          "data": {
            "image/png": "[encoded data removed]",
            "text/plain": [
              "<matplotlib.figure.Figure at 0x7fd8f31a4240>"
            ]
          },
          "metadata": {
            "tags": []
          }
        }
      ]
    },
    {
      "metadata": {
        "id": "0O4VeOWis1FS",
        "colab_type": "text"
      },
      "cell_type": "markdown",
      "source": [
        "rotated U, V, $\\frac{\\|U - V\\|}{\\|U\\|}$"
      ]
    },
    {
      "metadata": {
        "id": "2lMgZ33tm_Jr",
        "colab_type": "code",
        "colab": {}
      },
      "cell_type": "code",
      "source": [
        "from scipy.spatial import procrustes\n",
        "sym_loss = []\n",
        "SNR = [0.01, 0.05, 0.1, 0.5]\n",
        "\n",
        "A = np.random.randn(500, 500)\n",
        "A += A.T\n",
        "r = 50\n",
        "U, S, Vh = np.linalg.svd(A)\n",
        "U = U[:, :r]\n",
        "S = np.diag(S[:r])\n",
        "V = Vh.T[:, :r]\n",
        "\n",
        "M = U.dot(S).dot(V.T)\n",
        "\n",
        "for snr in SNR:\n",
        "    loss = []\n",
        "    for i in range(50):\n",
        "        noise = snr*np.random.randn(500, 500)\n",
        "        noise += noise.T\n",
        "        U, S, V = step(U, S, V, noise)\n",
        "        u, s, v = np.linalg.svd(S)\n",
        "        v = v.T\n",
        "        U_, V_, l = procrustes(U.dot(u*np.sqrt(s)), V.dot(v*np.sqrt(s)))\n",
        "        loss.append(l)\n",
        "    sym_loss.append(loss)"
      ],
      "execution_count": 0,
      "outputs": []
    },
    {
      "metadata": {
        "id": "tb68aLgZx4Pp",
        "colab_type": "code",
        "outputId": "5ab56442-cd71-4447-995c-a59d6467a2a6",
        "colab": {
          "base_uri": "https://localhost:8080/",
          "height": 279
        }
      },
      "cell_type": "code",
      "source": [
        "for i, loss in enumerate(sym_loss):\n",
        "    plt.plot(loss, label = str(SNR[i]))\n",
        "    plt.xlabel('n iter')\n",
        "    plt.ylabel('loss norm / matrix norm')\n",
        "    plt.legend(loc = 'best')"
      ],
      "execution_count": 0,
      "outputs": [
        {
          "output_type": "display_data",
          "data": {
            "image/png": "[encoded data removed]",
            "text/plain": [
              "<matplotlib.figure.Figure at 0x7fd8f82cdef0>"
            ]
          },
          "metadata": {
            "tags": []
          }
        }
      ]
    },
    {
      "metadata": {
        "id": "1gSjDm4htOcB",
        "colab_type": "text"
      },
      "cell_type": "markdown",
      "source": [
        "real data\n",
        "\n",
        "rotated U, V, $\\frac{\\|U - V\\|}{\\|U\\|}$"
      ]
    },
    {
      "metadata": {
        "id": "acSzMHAgp72j",
        "colab_type": "code",
        "colab": {}
      },
      "cell_type": "code",
      "source": [
        "w2v = IntegratedW2V()\n",
        "w2v.fit(corpus)"
      ],
      "execution_count": 0,
      "outputs": []
    },
    {
      "metadata": {
        "id": "nyR99w6MqjRs",
        "colab_type": "code",
        "outputId": "02688d11-be9a-4630-8f39-84032759fab1",
        "colab": {
          "base_uri": "https://localhost:8080/",
          "height": 296
        }
      },
      "cell_type": "code",
      "source": [
        "plt.plot(w2v.symmetry_loss)\n",
        "plt.xlabel('n iter')\n",
        "plt.ylabel('symmetry loss')"
      ],
      "execution_count": 67,
      "outputs": [
        {
          "output_type": "execute_result",
          "data": {
            "text/plain": [
              "Text(0,0.5,'symmetry loss')"
            ]
          },
          "metadata": {
            "tags": []
          },
          "execution_count": 67
        },
        {
          "output_type": "display_data",
          "data": {
            "image/png": "[encoded data removed]",
            "text/plain": [
              "<matplotlib.figure.Figure at 0x7fd8f315add8>"
            ]
          },
          "metadata": {
            "tags": []
          }
        }
      ]
    },
    {
      "metadata": {
        "id": "mpQpyE8LqVS0",
        "colab_type": "code",
        "outputId": "2b7cec73-0054-4fd6-b45d-decee26477ae",
        "colab": {
          "base_uri": "https://localhost:8080/",
          "height": 2312
        }
      },
      "cell_type": "code",
      "source": [
        "w2v.k_nearest('trump')"
      ],
      "execution_count": 0,
      "outputs": [
        {
          "output_type": "execute_result",
          "data": {
            "text/plain": [
              "[[('bondholders', 0.9225145976587661),\n",
              "  ('casinos', 0.9041482331691848),\n",
              "  ('bankers', 0.8762187916008849),\n",
              "  ('casino', 0.8535754395216528),\n",
              "  ('lenders', 0.8284061593735002)],\n",
              " [('plaza', 0.7380343481434888),\n",
              "  ('properties', 0.7354609264887819),\n",
              "  ('bankers', 0.7351865649139775),\n",
              "  ('taj', 0.7244524233207985),\n",
              "  ('developer', 0.7103526766856495)],\n",
              " [('spade', 0.5847293959144038),\n",
              "  ('ruff', 0.5809267865822539),\n",
              "  ('ace', 0.5753869670225484),\n",
              "  ('landlord', 0.5575989078812053),\n",
              "  ('dummy', 0.5562256799307366)],\n",
              " [('condominiums', 0.4317796023129664),\n",
              "  ('apartments', 0.39338460600804853),\n",
              "  ('vegas', 0.3924696389207172),\n",
              "  ('negotiated', 0.38500933902982365),\n",
              "  ('sears', 0.38150227147394544)],\n",
              " [('condominiums', 0.48120423144942664),\n",
              "  ('55th', 0.43654039020538093),\n",
              "  ('foreclosure', 0.43322851694981346),\n",
              "  ('negotiated', 0.4177233135816258),\n",
              "  ('59th', 0.4075831941249997)],\n",
              " [('casinos', 0.5713271766721575),\n",
              "  ('mortgage', 0.5223184201943939),\n",
              "  ('plaza', 0.49480758109581735),\n",
              "  ('rental', 0.4749141728535131),\n",
              "  ('loans', 0.4513411052643245)],\n",
              " [('wynn', 0.4760636240499251),\n",
              "  ('casinos', 0.4414517726869498),\n",
              "  ('hilton', 0.435450082715359),\n",
              "  ('condominiums', 0.4052095373081596),\n",
              "  ('berlin', 0.40409073794007944)],\n",
              " [('condominiums', 0.4600346253771925),\n",
              "  ('flee', 0.38796398331173343),\n",
              "  ('diamond', 0.3805162136111204),\n",
              "  ('bankers', 0.3793186349261689),\n",
              "  ('orchestra', 0.36846734900464906)],\n",
              " [('complexes', 0.43756790675194746),\n",
              "  ('onebedroom', 0.42915723240966897),\n",
              "  ('condominiums', 0.4154097990999137),\n",
              "  ('59th', 0.40684720710591105),\n",
              "  ('abraham', 0.39472585544524474)],\n",
              " [('abraham', 0.38039023487530044),\n",
              "  ('diamond', 0.36963483152242216),\n",
              "  ('facades', 0.36042834232306215),\n",
              "  ('renovation', 0.35896916514440846),\n",
              "  ('peter', 0.35505038577725)],\n",
              " [('breeds', 0.3494282649186962),\n",
              "  ('resonance', 0.3425891952167589),\n",
              "  ('thanksgiving', 0.3402746017131265),\n",
              "  ('unbeaten', 0.3400162032209258),\n",
              "  ('abortion', 0.3378545359801164)],\n",
              " [('222', 0.4068912903206441),\n",
              "  ('203', 0.4015010923159659),\n",
              "  ('rentals', 0.3890422808715246),\n",
              "  ('25000', 0.38438430456810124),\n",
              "  ('competitions', 0.3796704950361786)],\n",
              " [('thanksgiving', 0.38193872784739163),\n",
              "  ('assembling', 0.36859932808861867),\n",
              "  ('secondlargest', 0.3667814631224833),\n",
              "  ('reopening', 0.3662557761834006),\n",
              "  ('flamenco', 0.3543590644414)],\n",
              " [('marvel', 0.37667327852700117),\n",
              "  ('irrelevant', 0.3737195391576219),\n",
              "  ('thanksgiving', 0.37152123603157705),\n",
              "  ('duets', 0.3488419391698463),\n",
              "  ('abraham', 0.34580004018200705)],\n",
              " [('citigroup', 0.42504047079675145),\n",
              "  ('enterprise', 0.3989721449420392),\n",
              "  ('organize', 0.3905679310872766),\n",
              "  ('mgm', 0.38584922407395894),\n",
              "  ('driven', 0.380997441599209)],\n",
              " [('earnings', 0.42298395762897745),\n",
              "  ('enterprise', 0.40588728453433864),\n",
              "  ('region', 0.38259281409697404),\n",
              "  ('disc', 0.37565947467263383),\n",
              "  ('person', 0.3708530617073188)],\n",
              " [('virtues', 0.3807821317288546),\n",
              "  ('gartner', 0.358686522460292),\n",
              "  ('associate', 0.35824216356510247),\n",
              "  ('nina', 0.3557606747386332),\n",
              "  ('molly', 0.3554396606026244)],\n",
              " [('nina', 0.39716181905114234),\n",
              "  ('enrollment', 0.3842131958586379),\n",
              "  ('thanksgiving', 0.3762835940983079),\n",
              "  ('doping', 0.3534587672015488),\n",
              "  ('earnings', 0.3517315747911968)],\n",
              " [('competitions', 0.41741413693070817),\n",
              "  ('enrollment', 0.3926717154963251),\n",
              "  ('endeavors', 0.3823316081512369),\n",
              "  ('prudential', 0.37933753082806),\n",
              "  ('resonance', 0.36820513797154697)],\n",
              " [('preeminent', 0.3989633524624483),\n",
              "  ('guardia', 0.3907204374442384),\n",
              "  ('remedy', 0.38270368305652436),\n",
              "  ('anesthesia', 0.37081531225726305),\n",
              "  ('1913', 0.3580865610034999)],\n",
              " [('resonance', 0.3978288762588442),\n",
              "  ('ovechkin', 0.36129600562195885),\n",
              "  ('flirting', 0.34654559605887203),\n",
              "  ('consulate', 0.343924743826727),\n",
              "  ('regularseason', 0.3432933042408233)],\n",
              " [('proportion', 0.386029918684257),\n",
              "  ('rams', 0.3565929213724067),\n",
              "  ('aggression', 0.3481712150624105),\n",
              "  ('onethird', 0.3393022893695282),\n",
              "  ('battles', 0.3384318700004725)],\n",
              " [('declaring', 0.36589795900173006),\n",
              "  ('resonance', 0.34489489768314535),\n",
              "  ('rains', 0.3434965288023254),\n",
              "  ('mischief', 0.32782047976547335),\n",
              "  ('paradise', 0.32506445039045495)],\n",
              " [('declaring', 0.4019188476776028),\n",
              "  ('grid', 0.35115262772760003),\n",
              "  ('drummer', 0.34353849416530957),\n",
              "  ('flamenco', 0.33455590509715305),\n",
              "  ('impoverished', 0.3336102810643469)],\n",
              " [('attention', 0.39879069340438916),\n",
              "  ('drummer', 0.39622867770641335),\n",
              "  ('doping', 0.3528589770092274),\n",
              "  ('ballroom', 0.34161196963778784),\n",
              "  ('endeavors', 0.34130178142365886)],\n",
              " [('extent', 0.43028959326885835),\n",
              "  ('norman', 0.402039597354507),\n",
              "  ('responsibility', 0.3927232824133935),\n",
              "  ('obama', 0.3823990091550276),\n",
              "  ('cruz', 0.3792201323499057)],\n",
              " [('person', 0.3882917943572439),\n",
              "  ('policy', 0.37343039826926944),\n",
              "  ('angel', 0.3706857679544442),\n",
              "  ('attention', 0.37025405115794385),\n",
              "  ('doping', 0.3491082386595097)]]"
            ]
          },
          "metadata": {
            "tags": []
          },
          "execution_count": 59
        }
      ]
    },
    {
      "metadata": {
        "id": "0ImLbB9tr13V",
        "colab_type": "code",
        "colab": {}
      },
      "cell_type": "code",
      "source": [
        ""
      ],
      "execution_count": 0,
      "outputs": []
    }
  ]
}
