{
 "cells": [
  {
   "cell_type": "code",
   "execution_count": 5,
   "metadata": {
    "collapsed": true
   },
   "outputs": [],
   "source": [
    "import numpy as np\n",
    "import scipy\n",
    "import scipy.sparse"
   ]
  },
  {
   "cell_type": "code",
   "execution_count": 6,
   "metadata": {
    "collapsed": true
   },
   "outputs": [],
   "source": [
    "#здесь все просто по статье\n",
    "def step(U, S, V, dA):\n",
    "    K = U.dot(S) + dA.dot(V)\n",
    "    U_, S_hat = np.linalg.qr(K)\n",
    "    S_tilde = S_hat - U_.T.dot(dA).dot(V)\n",
    "    L = V.dot(S_tilde.T) + dA.T.dot(U_)\n",
    "    V_, ST = np.linalg.qr(L)\n",
    "    S_ = ST.T\n",
    "    return U_, S_, V_ "
   ]
  },
  {
   "cell_type": "code",
   "execution_count": 13,
   "metadata": {
    "collapsed": false
   },
   "outputs": [
    {
     "name": "stdout",
     "output_type": "stream",
     "text": [
      "5.01311642185e-15\n",
      "0.00104913641074\n",
      "U, V: 0.0119469832597\n",
      "0.00145193850192\n",
      "U, V: 0.0144444635811\n",
      "0.00178092534318\n",
      "U, V: 0.0164154079322\n",
      "0.0020428929488\n",
      "U, V: 0.0184372720571\n",
      "0.00226406729891\n",
      "U, V: 0.0200277184731\n",
      "0.00253309081917\n",
      "U, V: 0.0197363740377\n",
      "0.00272964231542\n",
      "U, V: 0.0224902422637\n",
      "0.00295302003911\n",
      "U, V: 0.0229249948298\n",
      "0.00310110526985\n",
      "U, V: 0.0237391895493\n",
      "0.00326173318747\n",
      "U, V: 0.0233152450355\n",
      "0.00347221954804\n",
      "U, V: 0.44786634465\n",
      "0.00362904320619\n",
      "U, V: 0.0253107422424\n",
      "0.00379248589638\n",
      "U, V: 0.0258305800621\n",
      "0.00391930632385\n",
      "U, V: 0.02680676154\n",
      "0.0040829688093\n",
      "U, V: 0.0279207538106\n",
      "0.0042315447982\n",
      "U, V: 0.0280052686283\n",
      "0.00434539585495\n",
      "U, V: 0.0305160926158\n",
      "0.00446767755025\n",
      "U, V: 0.0316424330803\n",
      "0.00455778109354\n",
      "U, V: 0.0325767544338\n",
      "0.00463266131819\n",
      "U, V: 0.0318760892282\n",
      "0.00475148938742\n",
      "U, V: 0.0329410475475\n",
      "0.00483426134414\n",
      "U, V: 0.0348923158306\n",
      "0.0049627428997\n",
      "U, V: 0.0361661984722\n",
      "0.00508089437313\n",
      "U, V: 0.0367872465647\n",
      "0.00518369950225\n",
      "U, V: 0.0389992743153\n",
      "0.00528460829572\n",
      "U, V: 0.0420368389078\n",
      "0.0053933891476\n",
      "U, V: 0.0460970787496\n",
      "0.00545554719911\n",
      "U, V: 0.0504924727639\n",
      "0.00554322876985\n",
      "U, V: 0.0549978345609\n",
      "0.00559331704126\n",
      "U, V: 0.0599709501938\n"
     ]
    }
   ],
   "source": [
    "#симметричная матрица\n",
    "A = np.random.randn(100, 100)*5\n",
    "A += A.T\n",
    "#низкоранговое приближение\n",
    "U, S, Vh = np.linalg.svd(A)\n",
    "U = U[:, :20]\n",
    "S = np.diag(S[:20])\n",
    "V = Vh.T[:, :20]\n",
    "#проверяем симмутричность\n",
    "M = U.dot(S).dot(V.T)\n",
    "print(np.linalg.norm(M - M.T)/np.linalg.norm(M))\n",
    "\n",
    "for i in range(30):\n",
    "    #случайно симмутрично-меняющаяся матрица\n",
    "    noise = np.random.randn(100, 100)/4\n",
    "    noise += noise.T\n",
    "    #шаг итерации\n",
    "    U, S, V = step(U, S, V, noise)\n",
    "    #проверяем симметричность\n",
    "    M = U.dot(S).dot(V.T)\n",
    "    print(np.linalg.norm(M - M.T)/np.linalg.norm(M))\n",
    "    #еще раз проверяем симметричность\n",
    "    print('U, V:', np.linalg.norm(U - V)/np.linalg.norm(U))"
   ]
  },
  {
   "cell_type": "code",
   "execution_count": null,
   "metadata": {
    "collapsed": true
   },
   "outputs": [],
   "source": []
  }
 ],
 "metadata": {
  "anaconda-cloud": {},
  "kernelspec": {
   "display_name": "Python [conda env:anaconda3]",
   "language": "python",
   "name": "conda-env-anaconda3-py"
  },
  "language_info": {
   "codemirror_mode": {
    "name": "ipython",
    "version": 3
   },
   "file_extension": ".py",
   "mimetype": "text/x-python",
   "name": "python",
   "nbconvert_exporter": "python",
   "pygments_lexer": "ipython3",
   "version": "3.5.2"
  }
 },
 "nbformat": 4,
 "nbformat_minor": 1
}
